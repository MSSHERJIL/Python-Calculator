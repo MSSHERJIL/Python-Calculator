{
  "nbformat": 4,
  "nbformat_minor": 0,
  "metadata": {
    "colab": {
      "provenance": []
    },
    "kernelspec": {
      "name": "python3",
      "display_name": "Python 3"
    },
    "language_info": {
      "name": "python"
    }
  },
  "cells": [
    {
      "cell_type": "code",
      "execution_count": 2,
      "metadata": {
        "colab": {
          "base_uri": "https://localhost:8080/"
        },
        "id": "YyNn9wcecWeQ",
        "outputId": "de88313f-2dbe-4aa4-f745-dc0368aa6825"
      },
      "outputs": [
        {
          "output_type": "stream",
          "name": "stdout",
          "text": [
            "CALCULATOR\n",
            "enter first number:8\n",
            "enter second number:77\n",
            "enter operator(+ - * ** /):*\n",
            "616.0\n"
          ]
        }
      ],
      "source": [
        "#TASK N0 2 (MUHAMMAD SHERJIL)\n",
        "print('CALCULATOR')\n",
        "a = float(input(\"enter first number:\"))\n",
        "b = float(input(\"enter second number:\"))\n",
        "operator = input('enter operator(+ - * ** /):')\n",
        "\n",
        "if operator == \"+\" :\n",
        "  c = a+b\n",
        "  print(c)\n",
        "\n",
        "elif operator == \"-\" :\n",
        "  c = a-b\n",
        "  print(c)\n",
        "\n",
        "elif operator == \"/\" :\n",
        "  c = a/b\n",
        "  print(c)\n",
        "elif operator == \"*\" :\n",
        "  c = a*b\n",
        "  print(c)\n",
        "elif operator == \"**\" :\n",
        "  c = a**b\n",
        "  print(c)\n",
        "\n",
        "else:\n",
        "  print(operator, \"is not a valid operator\")\n",
        "\n"
      ]
    }
  ]
}